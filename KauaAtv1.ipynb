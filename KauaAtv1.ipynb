{
 "cells": [
  {
   "cell_type": "code",
   "execution_count": 6,
   "metadata": {},
   "outputs": [
    {
     "name": "stdout",
     "output_type": "stream",
     "text": [
      "<class 'str'>\n",
      "<class 'int'>\n"
     ]
    }
   ],
   "source": [
    "nome = \"camila\"\n",
    "idade = 35\n",
    "altura = 1.70\n",
    "print(type(nome))\n",
    "print(type(idade))\n",
    "print(type(altura))\n"
   ]
  },
  {
   "cell_type": "code",
   "execution_count": 9,
   "metadata": {},
   "outputs": [
    {
     "name": "stdout",
     "output_type": "stream",
     "text": [
      "olá, coracaozinho\n"
     ]
    }
   ],
   "source": [
    "nome = \"coracaozinho\"\n",
    "idade = 20\n",
    "print(f\"olá, {nome}\")\n"
   ]
  },
  {
   "cell_type": "code",
   "execution_count": 11,
   "metadata": {},
   "outputs": [
    {
     "name": "stdout",
     "output_type": "stream",
     "text": [
      "55\n"
     ]
    }
   ],
   "source": [
    "idade1 = 20\n",
    "idade2 = 35\n",
    "\n",
    "somaIdades = idade1 + idade2 \n",
    "print(somaIdades)"
   ]
  },
  {
   "cell_type": "code",
   "execution_count": 12,
   "metadata": {},
   "outputs": [
    {
     "name": "stdout",
     "output_type": "stream",
     "text": [
      "-15\n",
      "700\n",
      "0.5714285714285714\n"
     ]
    }
   ],
   "source": [
    "idade1 = 20\n",
    "idade2 = 35\n",
    "\n",
    "print(idade1 - idade2 )\n",
    "print(idade1 * idade2 )\n",
    "print(idade1 / idade2 )"
   ]
  },
  {
   "cell_type": "code",
   "execution_count": 13,
   "metadata": {},
   "outputs": [
    {
     "name": "stdout",
     "output_type": "stream",
     "text": [
      "30\n",
      "5\n",
      "80\n",
      "4.0\n"
     ]
    }
   ],
   "source": [
    "print(idade1 + 10 )\n",
    "print(idade1 - 15 )\n",
    "print(idade1 * 4 )\n",
    "print(idade1 / 5 )"
   ]
  },
  {
   "cell_type": "code",
   "execution_count": 14,
   "metadata": {},
   "outputs": [
    {
     "name": "stdout",
     "output_type": "stream",
     "text": [
      "110\n",
      "66.25\n",
      "36.25\n"
     ]
    }
   ],
   "source": [
    "print(2 *(idade1 + idade2))\n",
    "print(2 * idade1 + 3 *  idade2 / 4) \n",
    "print((2 * idade1 + 3 *  idade2) / 4) "
   ]
  },
  {
   "cell_type": "code",
   "execution_count": 15,
   "metadata": {},
   "outputs": [
    {
     "name": "stdout",
     "output_type": "stream",
     "text": [
      "400\n",
      "225\n"
     ]
    }
   ],
   "source": [
    "print(idade1 ** 2)\n",
    "print(15 ** 2)"
   ]
  },
  {
   "cell_type": "code",
   "execution_count": 16,
   "metadata": {},
   "outputs": [
    {
     "name": "stdout",
     "output_type": "stream",
     "text": [
      "1\n",
      "1.75\n"
     ]
    }
   ],
   "source": [
    "print(idade2 // idade1)\n",
    "print(idade2 / idade1)"
   ]
  },
  {
   "cell_type": "code",
   "execution_count": 17,
   "metadata": {},
   "outputs": [
    {
     "name": "stdout",
     "output_type": "stream",
     "text": [
      "15\n"
     ]
    }
   ],
   "source": [
    "print(idade2 % idade1)"
   ]
  },
  {
   "cell_type": "code",
   "execution_count": 19,
   "metadata": {},
   "outputs": [
    {
     "name": "stdout",
     "output_type": "stream",
     "text": [
      "Camila Dantas\n"
     ]
    }
   ],
   "source": [
    "nome = \"Camila\"\n",
    "sobrenome = \"Dantas\"\n",
    "print(nome + \" \" + sobrenome)"
   ]
  },
  {
   "cell_type": "code",
   "execution_count": 24,
   "metadata": {},
   "outputs": [
    {
     "name": "stdout",
     "output_type": "stream",
     "text": [
      "Olá, Camila voce tem 35 anos.\n"
     ]
    }
   ],
   "source": [
    "print(f'Olá, {nome} voce tem {idade1 + 15} anos.')"
   ]
  }
 ],
 "metadata": {
  "kernelspec": {
   "display_name": "Python 3",
   "language": "python",
   "name": "python3"
  },
  "language_info": {
   "codemirror_mode": {
    "name": "ipython",
    "version": 3
   },
   "file_extension": ".py",
   "mimetype": "text/x-python",
   "name": "python",
   "nbconvert_exporter": "python",
   "pygments_lexer": "ipython3",
   "version": "3.12.0"
  }
 },
 "nbformat": 4,
 "nbformat_minor": 2
}
